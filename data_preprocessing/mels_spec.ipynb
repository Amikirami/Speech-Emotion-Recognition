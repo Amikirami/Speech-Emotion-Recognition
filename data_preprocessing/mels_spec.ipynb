{
 "cells": [
  {
   "cell_type": "code",
   "execution_count": 1,
   "metadata": {},
   "outputs": [],
   "source": [
    "import librosa\n",
    "import librosa.display\n",
    "import numpy as np\n",
    "import pandas as pd\n",
    "import matplotlib.pyplot as plt\n",
    "import os\n",
    "import zipfile\n"
   ]
  },
  {
   "cell_type": "code",
   "execution_count": 2,
   "metadata": {},
   "outputs": [],
   "source": [
    "with zipfile.ZipFile('/home/studenci/165122/Speech_emotion_recognition/New_Big_dataset_Spetember2022.zip', 'r') as zip_ref:\n",
    "    zip_ref.extractall('/home/studenci/165122/Speech_emotion_recognition/New_Big_dataset_Spetember2022/')"
   ]
  },
  {
   "cell_type": "markdown",
   "metadata": {},
   "source": [
    "### Create directories to store spectrograms and mel-spectrograms"
   ]
  },
  {
   "cell_type": "code",
   "execution_count": 3,
   "metadata": {},
   "outputs": [],
   "source": [
    "parent_path = \"/home/studenci/165122/Speech_emotion_recognition/New_Big_dataset_Spetember2022\"\n",
    "emotion_number_and_types = [\"Train_6_emotions\", \"Test_6_emotions\"]\n",
    "extraction_types = [\"Spectrogram\", \"Melspectrogram\"]\n",
    "emotions_4 = [\"Anger\", \"Happy\", \"Neutral\", \"Sad\"]\n",
    "emotions_6 = [\"Anger\", \"Disgust\", \"Fear\", \"Happy\", \"Neutral\", \"Sad\"]\n",
    "\n",
    "mode = 0o777\n"
   ]
  },
  {
   "cell_type": "code",
   "execution_count": 4,
   "metadata": {},
   "outputs": [
    {
     "name": "stdout",
     "output_type": "stream",
     "text": [
      "/home/studenci/165122/Speech_emotion_recognition/New_Big_dataset_Spetember2022/Test_4_emotions\n",
      "/home/studenci/165122/Speech_emotion_recognition/New_Big_dataset_Spetember2022/Test_4_emotions/Spectrogram\n",
      "/home/studenci/165122/Speech_emotion_recognition/New_Big_dataset_Spetember2022/Test_4_emotions/Spectrogram/Anger\n",
      "/home/studenci/165122/Speech_emotion_recognition/New_Big_dataset_Spetember2022/Test_4_emotions/Spectrogram/Happy\n",
      "/home/studenci/165122/Speech_emotion_recognition/New_Big_dataset_Spetember2022/Test_4_emotions/Spectrogram/Neutral\n",
      "/home/studenci/165122/Speech_emotion_recognition/New_Big_dataset_Spetember2022/Test_4_emotions/Spectrogram/Sad\n",
      "/home/studenci/165122/Speech_emotion_recognition/New_Big_dataset_Spetember2022/Test_4_emotions/Melspectrogram\n",
      "/home/studenci/165122/Speech_emotion_recognition/New_Big_dataset_Spetember2022/Test_4_emotions/Melspectrogram/Anger\n",
      "/home/studenci/165122/Speech_emotion_recognition/New_Big_dataset_Spetember2022/Test_4_emotions/Melspectrogram/Happy\n",
      "/home/studenci/165122/Speech_emotion_recognition/New_Big_dataset_Spetember2022/Test_4_emotions/Melspectrogram/Neutral\n",
      "/home/studenci/165122/Speech_emotion_recognition/New_Big_dataset_Spetember2022/Test_4_emotions/Melspectrogram/Sad\n",
      "/home/studenci/165122/Speech_emotion_recognition/New_Big_dataset_Spetember2022/Train_4_emotions\n",
      "/home/studenci/165122/Speech_emotion_recognition/New_Big_dataset_Spetember2022/Train_4_emotions/Spectrogram\n",
      "/home/studenci/165122/Speech_emotion_recognition/New_Big_dataset_Spetember2022/Train_4_emotions/Spectrogram/Anger\n",
      "/home/studenci/165122/Speech_emotion_recognition/New_Big_dataset_Spetember2022/Train_4_emotions/Spectrogram/Happy\n",
      "/home/studenci/165122/Speech_emotion_recognition/New_Big_dataset_Spetember2022/Train_4_emotions/Spectrogram/Neutral\n",
      "/home/studenci/165122/Speech_emotion_recognition/New_Big_dataset_Spetember2022/Train_4_emotions/Spectrogram/Sad\n",
      "/home/studenci/165122/Speech_emotion_recognition/New_Big_dataset_Spetember2022/Train_4_emotions/Melspectrogram\n",
      "/home/studenci/165122/Speech_emotion_recognition/New_Big_dataset_Spetember2022/Train_4_emotions/Melspectrogram/Anger\n",
      "/home/studenci/165122/Speech_emotion_recognition/New_Big_dataset_Spetember2022/Train_4_emotions/Melspectrogram/Happy\n",
      "/home/studenci/165122/Speech_emotion_recognition/New_Big_dataset_Spetember2022/Train_4_emotions/Melspectrogram/Neutral\n",
      "/home/studenci/165122/Speech_emotion_recognition/New_Big_dataset_Spetember2022/Train_4_emotions/Melspectrogram/Sad\n",
      "/home/studenci/165122/Speech_emotion_recognition/New_Big_dataset_Spetember2022/Train_6_emotions\n",
      "/home/studenci/165122/Speech_emotion_recognition/New_Big_dataset_Spetember2022/Train_6_emotions/Spectrogram\n",
      "/home/studenci/165122/Speech_emotion_recognition/New_Big_dataset_Spetember2022/Train_6_emotions/Spectrogram\n",
      "/home/studenci/165122/Speech_emotion_recognition/New_Big_dataset_Spetember2022/Train_6_emotions/Spectrogram\n",
      "/home/studenci/165122/Speech_emotion_recognition/New_Big_dataset_Spetember2022/Train_6_emotions/Spectrogram\n",
      "/home/studenci/165122/Speech_emotion_recognition/New_Big_dataset_Spetember2022/Train_6_emotions/Spectrogram\n",
      "/home/studenci/165122/Speech_emotion_recognition/New_Big_dataset_Spetember2022/Train_6_emotions/Spectrogram\n",
      "/home/studenci/165122/Speech_emotion_recognition/New_Big_dataset_Spetember2022/Train_6_emotions/Spectrogram\n",
      "/home/studenci/165122/Speech_emotion_recognition/New_Big_dataset_Spetember2022/Train_6_emotions/Melspectrogram\n",
      "/home/studenci/165122/Speech_emotion_recognition/New_Big_dataset_Spetember2022/Train_6_emotions/Melspectrogram\n",
      "/home/studenci/165122/Speech_emotion_recognition/New_Big_dataset_Spetember2022/Train_6_emotions/Melspectrogram\n",
      "/home/studenci/165122/Speech_emotion_recognition/New_Big_dataset_Spetember2022/Train_6_emotions/Melspectrogram\n",
      "/home/studenci/165122/Speech_emotion_recognition/New_Big_dataset_Spetember2022/Train_6_emotions/Melspectrogram\n",
      "/home/studenci/165122/Speech_emotion_recognition/New_Big_dataset_Spetember2022/Train_6_emotions/Melspectrogram\n",
      "/home/studenci/165122/Speech_emotion_recognition/New_Big_dataset_Spetember2022/Train_6_emotions/Melspectrogram\n",
      "/home/studenci/165122/Speech_emotion_recognition/New_Big_dataset_Spetember2022/Test_6_emotions\n",
      "/home/studenci/165122/Speech_emotion_recognition/New_Big_dataset_Spetember2022/Test_6_emotions/Spectrogram\n",
      "/home/studenci/165122/Speech_emotion_recognition/New_Big_dataset_Spetember2022/Test_6_emotions/Spectrogram\n",
      "/home/studenci/165122/Speech_emotion_recognition/New_Big_dataset_Spetember2022/Test_6_emotions/Spectrogram\n",
      "/home/studenci/165122/Speech_emotion_recognition/New_Big_dataset_Spetember2022/Test_6_emotions/Spectrogram\n",
      "/home/studenci/165122/Speech_emotion_recognition/New_Big_dataset_Spetember2022/Test_6_emotions/Spectrogram\n",
      "/home/studenci/165122/Speech_emotion_recognition/New_Big_dataset_Spetember2022/Test_6_emotions/Spectrogram\n",
      "/home/studenci/165122/Speech_emotion_recognition/New_Big_dataset_Spetember2022/Test_6_emotions/Spectrogram\n",
      "/home/studenci/165122/Speech_emotion_recognition/New_Big_dataset_Spetember2022/Test_6_emotions/Melspectrogram\n",
      "/home/studenci/165122/Speech_emotion_recognition/New_Big_dataset_Spetember2022/Test_6_emotions/Melspectrogram\n",
      "/home/studenci/165122/Speech_emotion_recognition/New_Big_dataset_Spetember2022/Test_6_emotions/Melspectrogram\n",
      "/home/studenci/165122/Speech_emotion_recognition/New_Big_dataset_Spetember2022/Test_6_emotions/Melspectrogram\n",
      "/home/studenci/165122/Speech_emotion_recognition/New_Big_dataset_Spetember2022/Test_6_emotions/Melspectrogram\n",
      "/home/studenci/165122/Speech_emotion_recognition/New_Big_dataset_Spetember2022/Test_6_emotions/Melspectrogram\n",
      "/home/studenci/165122/Speech_emotion_recognition/New_Big_dataset_Spetember2022/Test_6_emotions/Melspectrogram\n"
     ]
    }
   ],
   "source": [
    "for emotion_number_and_type in emotion_number_and_types:\n",
    "    dir_to_create = os.path.join(parent_path, emotion_number_and_type)\n",
    "    print(dir_to_create)\n",
    "    os.mkdir(dir_to_create, mode)\n",
    "    \n",
    "    for extraction_type in extraction_types:\n",
    "        dir_to_create = os.path.join(dir_to_create, extraction_type)\n",
    "        print(dir_to_create)\n",
    "        os.mkdir(dir_to_create, mode)\n",
    "        \n",
    "        if(\"4\" in emotion_number_and_type):\n",
    "            for emotion in emotions_4:\n",
    "                #dir_to_create = os.path.join(dir_to_create, emotion)\n",
    "                print(os.path.join(dir_to_create, emotion))\n",
    "                os.mkdir(os.path.join(dir_to_create, emotion), mode)\n",
    "        else:\n",
    "            for emotion in emotions_6:\n",
    "                #dir_to_create = os.path.join(dir_to_create, emotion)\n",
    "                print(dir_to_create)\n",
    "                os.mkdir(os.path.join(dir_to_create, emotion), mode)\n",
    "        \n",
    "        dir_to_create = os.path.dirname(dir_to_create)\n"
   ]
  },
  {
   "cell_type": "markdown",
   "metadata": {},
   "source": [
    "### Methods"
   ]
  },
  {
   "cell_type": "code",
   "execution_count": 5,
   "metadata": {},
   "outputs": [],
   "source": [
    "def plot_spectrogram(Y, sr, hop_length, destination_to_save, y_axis=\"linear\"):\n",
    "    x = librosa.display.specshow(Y, \n",
    "                             sr=sr, \n",
    "                             hop_length=hop_length, \n",
    "                             x_axis=\"time\", \n",
    "                             y_axis=y_axis)\n",
    "    \n",
    "    plt.axis('off')\n",
    "                             \n",
    "    plt.savefig(destination_to_save, format='png', bbox_inches='tight')\n",
    "    return plt\n",
    "\n",
    "\n"
   ]
  },
  {
   "cell_type": "code",
   "execution_count": 6,
   "metadata": {},
   "outputs": [],
   "source": [
    "def get_mel_spectrogram(wav_file, destination_to_save):\n",
    "    scale , sr = librosa.load(wav_file, sr = 22050)\n",
    "    D = librosa.amplitude_to_db(np.abs(librosa.stft(scale, hop_length=HOP_SIZE)), ref=np.max)\n",
    "    librosa.display.specshow(D, y_axis='log', sr=sr, hop_length=HOP_SIZE, x_axis='time')\n",
    "    plt.axis('off')\n",
    "    plt.savefig(destination_to_save, format='png', bbox_inches='tight')\n",
    "\n"
   ]
  },
  {
   "cell_type": "code",
   "execution_count": 7,
   "metadata": {},
   "outputs": [],
   "source": [
    "def get_spectrogram(wav_file, destination_to_save):\n",
    "    scale , sr = librosa.load(wav_file, sr = 22050)\n",
    "    D = librosa.amplitude_to_db(np.abs(librosa.stft(scale)), ref=np.max)\n",
    "    img = librosa.display.specshow(D, y_axis='linear', x_axis='time', sr=sr)\n",
    "    plt.axis('off')\n",
    "    plt.savefig(destination_to_save, format='png', bbox_inches='tight')"
   ]
  },
  {
   "cell_type": "markdown",
   "metadata": {},
   "source": [
    "### Extraction of spectrograms and mel-spectrograms"
   ]
  },
  {
   "cell_type": "code",
   "execution_count": 10,
   "metadata": {},
   "outputs": [],
   "source": [
    "FRAME_SIZE = 1024\n",
    "HOP_SIZE = 512\n",
    "\n",
    "source_folder = \"/home/studenci/165122/Speech_emotion_recognition/New_Big_dataset_Spetember2022/New_Big_dataset_Spetember2022\"\n",
    "destination_folder_mels = \"/home/studenci/165122/Speech_emotion_recognition/New_Big_dataset_Spetember2022\"\n",
    "destination_folder_spec = \"/home/studenci/165122/Speech_emotion_recognition/New_Big_dataset_Spetember2022\""
   ]
  },
  {
   "cell_type": "code",
   "execution_count": 11,
   "metadata": {},
   "outputs": [],
   "source": [
    "for emotion_number_and_type in emotion_number_and_types:\n",
    "    # [\"Test_4_emotions\", \"Train_4_emotions\", \"Train_6_emotions\", \"Test_6_emotions\"]\n",
    "    for folder_name in os.listdir(source_folder + '/' + emotion_number_and_type):\n",
    "        current_folder = source_folder + '/' + emotion_number_and_type + '/' + folder_name\n",
    "        if folder_name == 'Anger' or folder_name == 'Disgust' or folder_name == 'Fear' or folder_name == 'Happy' or folder_name == 'Neutral' or folder_name == 'Sad':\n",
    "            for file_name in os.listdir(current_folder):\n",
    "\n",
    "                source = current_folder + '/' + file_name\n",
    "\n",
    "                if folder_name == 'Anger':\n",
    "                    destination = destination_folder_mels + '/' + emotion_number_and_type + '/Melspectrogram/Anger/' + file_name + '.png'\n",
    "                    destination_spec = destination_folder_spec + '/' + emotion_number_and_type + '/Spectrogram/Anger/' + file_name + '.png'\n",
    "                    spec_spectrogram = get_spectrogram(source, destination_spec)\n",
    "                    mel_spectrogram = get_mel_spectrogram(source, destination)\n",
    "                    plt.close('all')\n",
    "                \n",
    "                elif folder_name == 'Disgust':\n",
    "                    destination = destination_folder_mels + '/' + emotion_number_and_type + '/Melspectrogram/Disgust/' + file_name + '.png'\n",
    "                    destination_spec = destination_folder_spec + '/' + emotion_number_and_type + '/Spectrogram/Disgust/' + file_name + '.png'\n",
    "                    spec_spectrogram = get_spectrogram(source, destination_spec)\n",
    "                    mel_spectrogram = get_mel_spectrogram(source, destination)\n",
    "                    plt.close('all')\n",
    "\n",
    "                elif folder_name == 'Fear':\n",
    "                    destination = destination_folder_mels + '/' + emotion_number_and_type + '/Melspectrogram/Fear/' + file_name + '.png'\n",
    "                    destination_spec = destination_folder_spec + '/' + emotion_number_and_type + '/Spectrogram/Fear/' + file_name + '.png'\n",
    "                    spec_spectrogram = get_spectrogram(source, destination_spec)\n",
    "                    mel_spectrogram = get_mel_spectrogram(source, destination)\n",
    "                    plt.close('all')\n",
    "\n",
    "                elif folder_name == 'Happy':\n",
    "                    destination = destination_folder_mels + '/' + emotion_number_and_type + '/Melspectrogram/Happy/' + file_name + '.png'\n",
    "                    destination_spec = destination_folder_spec + '/' + emotion_number_and_type + '/Spectrogram/Happy/' + file_name + '.png'\n",
    "                    spec_spectrogram = get_spectrogram(source, destination_spec)\n",
    "                    mel_spectrogram = get_mel_spectrogram(source, destination)\n",
    "                    plt.close('all')\n",
    "\n",
    "                elif folder_name == 'Neutral':\n",
    "                    destination = destination_folder_mels + '/' + emotion_number_and_type + '/Melspectrogram/Neutral/' + file_name + '.png'\n",
    "                    destination_spec = destination_folder_spec + '/' + emotion_number_and_type + '/Spectrogram/Neutral/' + file_name + '.png'\n",
    "                    spec_spectrogram = get_spectrogram(source, destination_spec)\n",
    "                    mel_spectrogram = get_mel_spectrogram(source, destination)\n",
    "                    plt.close('all')\n",
    "\n",
    "                elif folder_name == 'Sad':\n",
    "                    destination = destination_folder_mels + '/' + emotion_number_and_type + '/Melspectrogram/Sad/' + file_name + '.png'\n",
    "                    destination_spec = destination_folder_spec + '/' + emotion_number_and_type + '/Spectrogram/Sad/' + file_name + '.png'\n",
    "                    spec_spectrogram = get_spectrogram(source, destination_spec)\n",
    "                    mel_spectrogram = get_mel_spectrogram(source, destination)\n",
    "                    plt.close('all')"
   ]
  }
 ],
 "metadata": {
  "kernelspec": {
   "display_name": "Python 3.8.8 64-bit",
   "language": "python",
   "name": "python3"
  },
  "language_info": {
   "codemirror_mode": {
    "name": "ipython",
    "version": 3
   },
   "file_extension": ".py",
   "mimetype": "text/x-python",
   "name": "python",
   "nbconvert_exporter": "python",
   "pygments_lexer": "ipython3",
   "version": "3.8.8"
  },
  "orig_nbformat": 4,
  "vscode": {
   "interpreter": {
    "hash": "767d51c1340bd893661ea55ea3124f6de3c7a262a8b4abca0554b478b1e2ff90"
   }
  }
 },
 "nbformat": 4,
 "nbformat_minor": 2
}
