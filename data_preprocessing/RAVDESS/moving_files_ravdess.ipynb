{
 "cells": [
  {
   "cell_type": "code",
   "execution_count": 5,
   "metadata": {},
   "outputs": [],
   "source": [
    "import os\n",
    "import shutil\n",
    "\n",
    "source_folder = \"./Audio_Speech_Actors_01-24\"\n",
    "destination_folder = \"./RAVDESS_Train\"\n",
    "\n",
    "# fetch all files\n",
    "\n",
    "for folder_name in os.listdir(source_folder):\n",
    "    # construct full file path\n",
    "    current_folder = source_folder + '\\\\' + folder_name\n",
    "    for file_name in os.listdir(current_folder):\n",
    "        # if file_name.split('-')[5] == '01':\n",
    "        #     continue\n",
    "\n",
    "        file_class = file_name.split('-')[2]\n",
    "        source = current_folder + '\\\\' + file_name\n",
    "\n",
    "        if file_class == '05':\n",
    "            destination = destination_folder + '\\\\Anger'\n",
    "            shutil.copy2(source, destination)\n",
    "        elif file_class == '07':\n",
    "            destination = destination_folder + '\\\\Disgust'\n",
    "            shutil.copy2(source, destination)\n",
    "        elif file_class == '06':\n",
    "            destination = destination_folder + '\\\\Fear'\n",
    "            shutil.copy2(source, destination)\n",
    "        elif file_class == '03':\n",
    "            destination = destination_folder + '\\\\Happy'\n",
    "            shutil.copy2(source, destination)\n",
    "        elif file_class == '01':\n",
    "            destination = destination_folder + '\\\\Neutral'\n",
    "            shutil.copy2(source, destination)\n",
    "        elif file_class == '04':\n",
    "            destination = destination_folder + '\\\\Sad'\n",
    "            shutil.copy2(source, destination)\n",
    "        elif file_class == '02':\n",
    "            destination = destination_folder + '\\\\Calm'\n",
    "            shutil.copy2(source, destination)\n",
    "        elif file_class == '08':\n",
    "            destination = destination_folder + '\\\\Surprise'\n",
    "            shutil.copy2(source, destination)\n"
   ]
  }
 ],
 "metadata": {
  "kernelspec": {
   "display_name": "Python 3.8.9 64-bit",
   "language": "python",
   "name": "python3"
  },
  "language_info": {
   "codemirror_mode": {
    "name": "ipython",
    "version": 3
   },
   "file_extension": ".py",
   "mimetype": "text/x-python",
   "name": "python",
   "nbconvert_exporter": "python",
   "pygments_lexer": "ipython3",
   "version": "3.8.9"
  },
  "orig_nbformat": 4,
  "vscode": {
   "interpreter": {
    "hash": "0c0e3d21fbab66ddad8c39190a9a8c07de975e35d1245b894db101dcc55ccf04"
   }
  }
 },
 "nbformat": 4,
 "nbformat_minor": 2
}
