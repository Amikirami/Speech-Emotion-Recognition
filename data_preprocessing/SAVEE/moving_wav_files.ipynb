{
 "cells": [
  {
   "cell_type": "code",
   "execution_count": 2,
   "metadata": {},
   "outputs": [],
   "source": [
    "import librosa\n",
    "import librosa.display\n",
    "import numpy as np\n",
    "import matplotlib.pyplot as plt \n",
    "    \n",
    "import os\n",
    "import shutil\n",
    "import numpy as np\n",
    "from PIL import Image\n",
    "import matplotlib.pyplot as plt\n",
    "\n",
    "source_folder = \"./AudioData\"\n",
    "destination_folder = \"./AudioData_Train\"\n",
    "\n",
    "#s = np.array(Image.open(source_folder).convert('RGB'))/255\n",
    "\n",
    "# fetch all files\n",
    "\n",
    "for folder_name in os.listdir(source_folder):\n",
    "\n",
    "    current_folder = source_folder + '\\\\' + folder_name\n",
    "    for file_name in os.listdir(current_folder):\n",
    "\n",
    "        file_class = file_name[0]\n",
    "        if file_class == 's':\n",
    "            file_class = file_class + file_name[1]\n",
    "\n",
    "        source = current_folder + '\\\\' + file_name\n",
    "\n",
    "        if file_class == 'a':\n",
    "            destination = destination_folder + '\\\\Anger\\\\' + folder_name + file_name\n",
    "            shutil.copyfile(source, destination)\n",
    "        elif file_class == 'd':\n",
    "            destination = destination_folder + '\\\\Disgust\\\\' + folder_name + file_name\n",
    "            shutil.copyfile(source, destination)\n",
    "        elif file_class == 'f':\n",
    "            destination = destination_folder + '\\\\Fear\\\\' + folder_name + file_name\n",
    "            shutil.copyfile(source, destination)\n",
    "        elif file_class == 'h':\n",
    "            destination = destination_folder + '\\\\Happy\\\\' + folder_name + file_name\n",
    "            shutil.copyfile(source, destination)\n",
    "        elif file_class == 'n':\n",
    "            destination = destination_folder + '\\\\Neutral\\\\' + folder_name + file_name\n",
    "            shutil.copyfile(source, destination)\n",
    "        elif file_class == 'sa':\n",
    "            destination = destination_folder + '\\\\Sad\\\\' + folder_name + file_name\n",
    "            shutil.copyfile(source, destination)\n",
    "        elif file_class == 'su':\n",
    "            destination = destination_folder + '\\\\Surprise\\\\' + folder_name + file_name\n",
    "            shutil.copyfile(source, destination)"
   ]
  }
 ],
 "metadata": {
  "kernelspec": {
   "display_name": "Python 3.8.9 64-bit",
   "language": "python",
   "name": "python3"
  },
  "language_info": {
   "codemirror_mode": {
    "name": "ipython",
    "version": 3
   },
   "file_extension": ".py",
   "mimetype": "text/x-python",
   "name": "python",
   "nbconvert_exporter": "python",
   "pygments_lexer": "ipython3",
   "version": "3.8.9"
  },
  "orig_nbformat": 4,
  "vscode": {
   "interpreter": {
    "hash": "0c0e3d21fbab66ddad8c39190a9a8c07de975e35d1245b894db101dcc55ccf04"
   }
  }
 },
 "nbformat": 4,
 "nbformat_minor": 2
}
