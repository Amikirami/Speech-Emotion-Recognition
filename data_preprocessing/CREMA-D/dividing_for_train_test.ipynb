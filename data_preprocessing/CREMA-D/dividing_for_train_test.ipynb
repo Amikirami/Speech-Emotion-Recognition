{
 "cells": [
  {
   "cell_type": "code",
   "execution_count": null,
   "metadata": {},
   "outputs": [],
   "source": [
    "import os\n",
    "import shutil\n",
    "import numpy as np\n",
    "from random import randrange\n",
    "\n",
    "source_folder = \"./AudioWAV\"\n",
    "destination_folder = \"./AudioWav_Classified_NEW_Train\"\n",
    "\n",
    "# fetch all files\n",
    "\n",
    "for file_name in os.listdir(source_folder):\n",
    "    # construct full file path\n",
    "    file_class = file_name.split('_')[2]\n",
    "    source = source_folder + '\\\\' + file_name\n",
    "\n",
    "    if file_class == 'ANG':\n",
    "        destination = destination_folder + '\\\\Anger'\n",
    "        shutil.copy2(source, destination)\n",
    "    elif file_class == 'DIS':\n",
    "        destination = destination_folder + '\\\\Disgust'\n",
    "        shutil.copy2(source, destination)\n",
    "    elif file_class == 'FEA':\n",
    "        destination = destination_folder + '\\\\Fear'\n",
    "        shutil.copy2(source, destination)\n",
    "    elif file_class == 'HAP':\n",
    "        destination = destination_folder + '\\\\Happy'\n",
    "        shutil.copy2(source, destination)\n",
    "    elif file_class == 'NEU':\n",
    "        destination = destination_folder + '\\\\Neutral'\n",
    "        shutil.copy2(source, destination)\n",
    "    elif file_class == 'SAD':\n",
    "        destination = destination_folder + '\\\\Sad'\n",
    "        shutil.copy2(source, destination)"
   ]
  },
  {
   "cell_type": "code",
   "execution_count": 1,
   "metadata": {},
   "outputs": [
    {
     "name": "stdout",
     "output_type": "stream",
     "text": [
      "1069\n",
      "1069\n",
      "1023\n",
      "['1084', '1039', '1057', '1023', '1035', '1091', '1067', '1007', '1069', '1006', '1042', '1072', '1075', '1040', '1020', '1010', '1032', '1068']\n"
     ]
    }
   ],
   "source": [
    "from random import randrange\n",
    "\n",
    "actors_id_test = []\n",
    "i = 0\n",
    "actors_number = 18\n",
    "while i < actors_number:\n",
    "    new_id = randrange(91)+1001\n",
    "    if new_id in actors_id_test:\n",
    "        print(new_id)\n",
    "        continue\n",
    "    i += 1\n",
    "    actors_id_test.append(new_id)\n",
    "\n",
    "actors_id_test_str = [str(x) for x in actors_id_test]\n",
    "# Actors that were drawn the first time: 1007, 1010, 1013, 1018, 1020, 1032, 1039, 1045, 1055, 1059, 1061, 1063, 1068, 1071, 1073, 1080, 1040, 1075\n",
    "print(actors_id_test_str)"
   ]
  },
  {
   "cell_type": "code",
   "execution_count": 25,
   "metadata": {},
   "outputs": [],
   "source": [
    "source_folder = \"./AudioWav_Classified_NEW_Train\"\n",
    "destination_folder = \"./AudioWav_Classified_NEW_Test\"\n",
    "\n",
    "for folder_name in os.listdir(source_folder):\n",
    "\n",
    "    current_folder = source_folder + '\\\\' + folder_name\n",
    "    for file_name in os.listdir(current_folder):\n",
    "        \n",
    "        source = current_folder + '\\\\' + file_name\n",
    "        actor_id = file_name.split('_')[0]\n",
    "        if actor_id in actors_id_test_str:\n",
    "\n",
    "            if folder_name == 'Anger':\n",
    "                destination = destination_folder + '\\\\Anger\\\\'\n",
    "                shutil.move(source, destination)\n",
    "            elif folder_name == 'Disgust':\n",
    "                destination = destination_folder + '\\\\Disgust\\\\'\n",
    "                shutil.move(source, destination)\n",
    "            elif folder_name == 'Fear':\n",
    "                destination = destination_folder + '\\\\Fear\\\\'\n",
    "                shutil.move(source, destination)\n",
    "            elif folder_name == 'Happy':\n",
    "                destination = destination_folder + '\\\\Happy\\\\'\n",
    "                shutil.move(source, destination)\n",
    "            elif folder_name == 'Neutral':\n",
    "                destination = destination_folder + '\\\\Neutral\\\\'\n",
    "                shutil.move(source, destination)\n",
    "            elif folder_name == 'Sad':\n",
    "                destination = destination_folder + '\\\\Sad\\\\'\n",
    "                shutil.move(source, destination)"
   ]
  }
 ],
 "metadata": {
  "kernelspec": {
   "display_name": "Python 3.8.9 64-bit",
   "language": "python",
   "name": "python3"
  },
  "language_info": {
   "codemirror_mode": {
    "name": "ipython",
    "version": 3
   },
   "file_extension": ".py",
   "mimetype": "text/x-python",
   "name": "python",
   "nbconvert_exporter": "python",
   "pygments_lexer": "ipython3",
   "version": "3.8.9"
  },
  "orig_nbformat": 4,
  "vscode": {
   "interpreter": {
    "hash": "0c0e3d21fbab66ddad8c39190a9a8c07de975e35d1245b894db101dcc55ccf04"
   }
  }
 },
 "nbformat": 4,
 "nbformat_minor": 2
}
