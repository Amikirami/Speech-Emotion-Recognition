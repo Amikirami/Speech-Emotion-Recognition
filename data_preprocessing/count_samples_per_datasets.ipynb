{
 "cells": [
  {
   "cell_type": "code",
   "execution_count": 15,
   "metadata": {},
   "outputs": [],
   "source": [
    "import os\n",
    "import pandas as pd\n",
    "import numpy as np\n",
    "import seaborn as sns\n",
    "\n",
    "from pathlib import Path\n"
   ]
  },
  {
   "cell_type": "markdown",
   "metadata": {},
   "source": [
    "### Read data"
   ]
  },
  {
   "cell_type": "code",
   "execution_count": 16,
   "metadata": {},
   "outputs": [],
   "source": [
    "NUMBER_OF_EMOTIONS = 4"
   ]
  },
  {
   "cell_type": "code",
   "execution_count": 17,
   "metadata": {},
   "outputs": [],
   "source": [
    "parent_folder = \"/home/studenci/165122/Speech_emotion_recognition/New_Big_dataset_Spetember2022/New_Big_dataset_Spetember2022\"\n",
    "\n",
    "if NUMBER_OF_EMOTIONS == 4:\n",
    "    emotion_number_and_types = [\"Test_4_emotions\", \"Train_4_emotions\"]\n",
    "    emotions = [\"Anger\", \"Happy\", \"Neutral\", \"Sad\"]\n",
    "elif NUMBER_OF_EMOTIONS == 6:\n",
    "    emotion_number_and_types = [\"Test_6_emotions\", \"Train_6_emotions\"]\n",
    "    emotions = [\"Anger\", \"Disgust\", \"Fear\", \"Happy\", \"Neutral\", \"Sad\"]"
   ]
  },
  {
   "cell_type": "code",
   "execution_count": 18,
   "metadata": {},
   "outputs": [],
   "source": [
    "def get_all_samples_names(parent_folder):\n",
    "    all_samples = []\n",
    "\n",
    "    for emotion_number_and_type in emotion_number_and_types:\n",
    "        parent_folder = os.path.join(parent_folder, emotion_number_and_type)\n",
    "        for emotion in emotions:\n",
    "            all_samples.append(os.listdir(os.path.join(parent_folder, emotion)))\n",
    "        parent_folder = Path(parent_folder).parent\n",
    "    \n",
    "    return all_samples"
   ]
  },
  {
   "cell_type": "code",
   "execution_count": 19,
   "metadata": {},
   "outputs": [],
   "source": [
    "def get_all_samples_names_per_emotion(parent_folder):\n",
    "    current_samples = []\n",
    "    all_samples = []\n",
    "    train_samples = []\n",
    "    test_samples = []\n",
    "    df = pd.DataFrame()\n",
    "    df_train = pd.DataFrame()\n",
    "    df_test = pd.DataFrame()\n",
    "\n",
    "\n",
    "    for emotion in emotions:\n",
    "        train_path = os.path.join(parent_folder, emotion_number_and_types[1])    # Train\n",
    "        current_samples.append(os.listdir(os.path.join(train_path, emotion)))\n",
    "        test_path = os.path.join(parent_folder, emotion_number_and_types[0])    # Test\n",
    "        current_samples[0].extend(os.listdir(os.path.join(test_path, emotion)))\n",
    "        \n",
    "        df[emotion] = current_samples\n",
    "        current_samples = []\n",
    "\n",
    "\n",
    "\n",
    "\n",
    "#FileNotFoundError: [Errno 2] No such file or directory: '/home/studenci/165122/Speech_emotion_recognition/New_Big_dataset_Spetember2022/New_Big_dataset/Train_4_emotions/Test_4_emotions/Anger'\n",
    "\n",
    "\n",
    "    \n",
    "    return df"
   ]
  },
  {
   "cell_type": "code",
   "execution_count": 20,
   "metadata": {},
   "outputs": [],
   "source": [
    "def get_all_samples_names_per_emotion_x(parent_folder):\n",
    "    current_samples = []\n",
    "    all_samples = []\n",
    "    train_samples = []\n",
    "    test_samples = []\n",
    "    df = pd.DataFrame()\n",
    "    df_train = pd.DataFrame()\n",
    "    df_test = pd.DataFrame()\n",
    "    \n",
    "    counter = 0\n",
    "    columns = []\n",
    "    list_of_emotion_samples = []\n",
    "\n",
    "    data = pd.DataFrame()\n",
    "\n",
    "    for emotion in emotions:\n",
    "        columns.append(emotion)\n",
    "        train_path = os.path.join(parent_folder, emotion_number_and_types[1])    # Train\n",
    "        current_samples.append(os.listdir(os.path.join(train_path, emotion)))\n",
    "        test_path = os.path.join(parent_folder, emotion_number_and_types[0])    # Test\n",
    "        current_samples[0].extend(os.listdir(os.path.join(test_path, emotion)))\n",
    "        \n",
    "        list_of_emotion_samples.append(current_samples)\n",
    "        df[emotion] =  pd.Series(current_samples)\n",
    "        data = data.assign(emotion=current_samples)\n",
    "        current_samples = []\n",
    "\n",
    "    print(len(list_of_emotion_samples))\n",
    "\n",
    "\n",
    "#FileNotFoundError: [Errno 2] No such file or directory: '/home/studenci/165122/Speech_emotion_recognition/New_Big_dataset_Spetember2022/New_Big_dataset/Train_4_emotions/Test_4_emotions/Anger'\n",
    "    \n",
    "    \n",
    "\n",
    "    \n",
    "    return df"
   ]
  },
  {
   "cell_type": "code",
   "execution_count": 21,
   "metadata": {},
   "outputs": [
    {
     "name": "stdout",
     "output_type": "stream",
     "text": [
      "4\n"
     ]
    }
   ],
   "source": [
    "samples_per_emotion = get_all_samples_names_per_emotion_x(parent_folder)\n"
   ]
  },
  {
   "cell_type": "code",
   "execution_count": 22,
   "metadata": {},
   "outputs": [],
   "source": [
    "def count_samples_per_database(list_of_all_samples):\n",
    "    # IEMOCAP:   Ses01M_script01_1_M038.wav\n",
    "    # TESS:      OAF_Fear, YAF_fear\n",
    "    # CREMA-D:   1001_DFA_ANG_XX.wav\n",
    "    # RAVDESS:   03-01-01-01-01-01-01.wav\n",
    "    # SAVEE:     JKh02.wav\n",
    "\n",
    "    iemocap_count = 0\n",
    "    tess_count = 0\n",
    "    cremad_count = 0\n",
    "    ravdess_count = 0\n",
    "    savee_count = 0\n",
    "\n",
    "    for sample in list_of_all_samples:\n",
    "        if(\"_\" in sample):\n",
    "            if(\"Ses\" in sample.split(\"_\")[0]):                                      # IEMOCAP\n",
    "                iemocap_count += 1\n",
    "            elif(\"OAF\" in sample.split(\"_\")[0] or \"YAF\" in sample.split(\"_\")[0]):     # TESS\n",
    "                tess_count += 1\n",
    "            else:                                                                   # CREMA-D\n",
    "                cremad_count += 1\n",
    "        elif(\"-\" in sample):                                                          # RAVDESS\n",
    "            ravdess_count += 1\n",
    "        else:                                                                       # SAVEE\n",
    "            savee_count += 1\n",
    "\n",
    "    dictionary = pd.DataFrame({\n",
    "        \"iemocap_count\": [iemocap_count],\n",
    "        \"tess_count\": [tess_count],\n",
    "        \"cremad_count \": [cremad_count],\n",
    "        \"ravdess_count\": [ravdess_count],\n",
    "        \"savee_count\": [savee_count]\n",
    "    })\n",
    "\n",
    "    return dictionary"
   ]
  },
  {
   "cell_type": "code",
   "execution_count": 23,
   "metadata": {},
   "outputs": [],
   "source": [
    "def present_results(samples_per_emotion):\n",
    "\n",
    "    for emotion in emotions:\n",
    "        print(f\"---------------------------------{emotion}---------------------------------\")\n",
    "        print(count_samples_per_database(samples_per_emotion[emotion][0]))\n",
    "\n",
    "    print(\"\\n_______________________________________________________________________\")\n",
    "    \n",
    "    for emotion in emotions:\n",
    "        print(f\"{emotion}: {len(samples_per_emotion[emotion][0])}\")\n",
    "   "
   ]
  },
  {
   "cell_type": "code",
   "execution_count": 24,
   "metadata": {},
   "outputs": [],
   "source": [
    "samples_per_emotion = get_all_samples_names_per_emotion(parent_folder)\n"
   ]
  },
  {
   "cell_type": "code",
   "execution_count": 25,
   "metadata": {},
   "outputs": [
    {
     "data": {
      "text/html": [
       "<div>\n",
       "<style scoped>\n",
       "    .dataframe tbody tr th:only-of-type {\n",
       "        vertical-align: middle;\n",
       "    }\n",
       "\n",
       "    .dataframe tbody tr th {\n",
       "        vertical-align: top;\n",
       "    }\n",
       "\n",
       "    .dataframe thead th {\n",
       "        text-align: right;\n",
       "    }\n",
       "</style>\n",
       "<table border=\"1\" class=\"dataframe\">\n",
       "  <thead>\n",
       "    <tr style=\"text-align: right;\">\n",
       "      <th></th>\n",
       "      <th>Anger</th>\n",
       "      <th>Happy</th>\n",
       "      <th>Neutral</th>\n",
       "      <th>Sad</th>\n",
       "    </tr>\n",
       "  </thead>\n",
       "  <tbody>\n",
       "    <tr>\n",
       "      <th>0</th>\n",
       "      <td>[OAF_lean_angry.wav, 1003_TSI_ANG_XX.wav, 1084...</td>\n",
       "      <td>[Ses02M_script03_1_F028.wav, Ses05M_impro07_M0...</td>\n",
       "      <td>[1046_ITS_NEU_XX.wav, 1060_IEO_NEU_XX.wav, 03-...</td>\n",
       "      <td>[Ses01M_script01_1_M038.wav, 1081_IWL_SAD_XX.w...</td>\n",
       "    </tr>\n",
       "  </tbody>\n",
       "</table>\n",
       "</div>"
      ],
      "text/plain": [
       "                                               Anger  \\\n",
       "0  [OAF_lean_angry.wav, 1003_TSI_ANG_XX.wav, 1084...   \n",
       "\n",
       "                                               Happy  \\\n",
       "0  [Ses02M_script03_1_F028.wav, Ses05M_impro07_M0...   \n",
       "\n",
       "                                             Neutral  \\\n",
       "0  [1046_ITS_NEU_XX.wav, 1060_IEO_NEU_XX.wav, 03-...   \n",
       "\n",
       "                                                 Sad  \n",
       "0  [Ses01M_script01_1_M038.wav, 1081_IWL_SAD_XX.w...  "
      ]
     },
     "execution_count": 25,
     "metadata": {},
     "output_type": "execute_result"
    }
   ],
   "source": [
    "samples_per_emotion"
   ]
  },
  {
   "cell_type": "code",
   "execution_count": null,
   "metadata": {},
   "outputs": [
    {
     "name": "stdout",
     "output_type": "stream",
     "text": [
      "---------------------------------Anger---------------------------------\n",
      "   iemocap_count  tess_count  cremad_count   ravdess_count  savee_count\n",
      "0           1103         399           1271             96           60\n",
      "---------------------------------Happy---------------------------------\n",
      "   iemocap_count  tess_count  cremad_count   ravdess_count  savee_count\n",
      "0           1636         400           1271             96           60\n",
      "---------------------------------Neutral---------------------------------\n",
      "   iemocap_count  tess_count  cremad_count   ravdess_count  savee_count\n",
      "0           1708         399           1088             48          120\n",
      "---------------------------------Sad---------------------------------\n",
      "   iemocap_count  tess_count  cremad_count   ravdess_count  savee_count\n",
      "0           1084         400           1271             96           60\n",
      "\n",
      "_______________________________________________________________________\n",
      "Anger: 2929\n",
      "Happy: 3463\n",
      "Neutral: 3363\n",
      "Sad: 2911\n"
     ]
    }
   ],
   "source": [
    "present_results(samples_per_emotion)"
   ]
  },
  {
   "cell_type": "code",
   "execution_count": null,
   "metadata": {},
   "outputs": [
    {
     "name": "stderr",
     "output_type": "stream",
     "text": [
      "/home/studenci/.local/lib/python3.8/site-packages/numpy/core/fromnumeric.py:87: VisibleDeprecationWarning: Creating an ndarray from ragged nested sequences (which is a list-or-tuple of lists-or-tuples-or ndarrays with different lengths or shapes) is deprecated. If you meant to do this, you must specify 'dtype=object' when creating the ndarray.\n",
      "  return ufunc.reduce(obj, axis, dtype, out, **passkwargs)\n"
     ]
    },
    {
     "data": {
      "text/html": [
       "<div>\n",
       "<style scoped>\n",
       "    .dataframe tbody tr th:only-of-type {\n",
       "        vertical-align: middle;\n",
       "    }\n",
       "\n",
       "    .dataframe tbody tr th {\n",
       "        vertical-align: top;\n",
       "    }\n",
       "\n",
       "    .dataframe thead th {\n",
       "        text-align: right;\n",
       "    }\n",
       "</style>\n",
       "<table border=\"1\" class=\"dataframe\">\n",
       "  <thead>\n",
       "    <tr style=\"text-align: right;\">\n",
       "      <th></th>\n",
       "      <th>iemocap_count</th>\n",
       "      <th>tess_count</th>\n",
       "      <th>cremad_count</th>\n",
       "      <th>ravdess_count</th>\n",
       "      <th>savee_count</th>\n",
       "    </tr>\n",
       "  </thead>\n",
       "  <tbody>\n",
       "    <tr>\n",
       "      <th>0</th>\n",
       "      <td>5531</td>\n",
       "      <td>1598</td>\n",
       "      <td>4901</td>\n",
       "      <td>336</td>\n",
       "      <td>300</td>\n",
       "    </tr>\n",
       "  </tbody>\n",
       "</table>\n",
       "</div>"
      ],
      "text/plain": [
       "   iemocap_count  tess_count  cremad_count   ravdess_count  savee_count\n",
       "0           5531        1598           4901            336          300"
      ]
     },
     "execution_count": 12,
     "metadata": {},
     "output_type": "execute_result"
    }
   ],
   "source": [
    "all_samples = get_all_samples_names(parent_folder)\n",
    "\n",
    "# Transform 2D list into 1D list\n",
    "all_samples = np.sum(all_samples,)\n",
    "\n",
    "samples_number_per_dataset = count_samples_per_database(all_samples)\n",
    "\n",
    "samples_number_per_dataset"
   ]
  }
 ],
 "metadata": {
  "kernelspec": {
   "display_name": "Python 3.8.8 64-bit",
   "language": "python",
   "name": "python3"
  },
  "language_info": {
   "codemirror_mode": {
    "name": "ipython",
    "version": 3
   },
   "file_extension": ".py",
   "mimetype": "text/x-python",
   "name": "python",
   "nbconvert_exporter": "python",
   "pygments_lexer": "ipython3",
   "version": "3.8.8"
  },
  "orig_nbformat": 4,
  "vscode": {
   "interpreter": {
    "hash": "767d51c1340bd893661ea55ea3124f6de3c7a262a8b4abca0554b478b1e2ff90"
   }
  }
 },
 "nbformat": 4,
 "nbformat_minor": 2
}
