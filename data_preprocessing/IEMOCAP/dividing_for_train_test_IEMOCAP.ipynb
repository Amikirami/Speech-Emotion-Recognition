{
 "cells": [
  {
   "cell_type": "code",
   "execution_count": 3,
   "metadata": {},
   "outputs": [],
   "source": [
    "import librosa\n",
    "import librosa.display\n",
    "import numpy as np\n",
    "import matplotlib.pyplot as plt \n",
    "import os\n",
    "import shutil\n",
    "from PIL import Image\n",
    "\n",
    "source_folder = \"./Data_classified_EH_Train\"\n",
    "destination_folder = \"./Data_classified_EH_Test\"\n",
    "\n",
    "for folder_name in os.listdir(source_folder):\n",
    "\n",
    "    current_folder = source_folder + '\\\\' + folder_name\n",
    "    for file_name in os.listdir(current_folder):\n",
    "        \n",
    "        source = current_folder + '\\\\' + file_name\n",
    "        actor_id = file_name.split('_')[0]\n",
    "        if actor_id in ['Ses04F', 'Ses04M']:\n",
    "\n",
    "            if folder_name == 'Anger':\n",
    "                destination = destination_folder + '\\\\Anger\\\\'\n",
    "                shutil.move(source, destination)\n",
    "            elif folder_name == 'Disgust':\n",
    "                destination = destination_folder + '\\\\Disgust\\\\'\n",
    "                shutil.move(source, destination)\n",
    "            elif folder_name == 'Fear':\n",
    "                destination = destination_folder + '\\\\Fear\\\\'\n",
    "                shutil.move(source, destination)\n",
    "            elif folder_name == 'Happy':\n",
    "                destination = destination_folder + '\\\\Happy\\\\'\n",
    "                shutil.move(source, destination)\n",
    "            elif folder_name == 'Neutral':\n",
    "                destination = destination_folder + '\\\\Neutral\\\\'\n",
    "                shutil.move(source, destination)\n",
    "            elif folder_name == 'Sad':\n",
    "                destination = destination_folder + '\\\\Sad\\\\'\n",
    "                shutil.move(source, destination)"
   ]
  }
 ],
 "metadata": {
  "kernelspec": {
   "display_name": "Python 3.8.9 64-bit",
   "language": "python",
   "name": "python3"
  },
  "language_info": {
   "codemirror_mode": {
    "name": "ipython",
    "version": 3
   },
   "file_extension": ".py",
   "mimetype": "text/x-python",
   "name": "python",
   "nbconvert_exporter": "python",
   "pygments_lexer": "ipython3",
   "version": "3.8.9"
  },
  "orig_nbformat": 4,
  "vscode": {
   "interpreter": {
    "hash": "0c0e3d21fbab66ddad8c39190a9a8c07de975e35d1245b894db101dcc55ccf04"
   }
  }
 },
 "nbformat": 4,
 "nbformat_minor": 2
}
