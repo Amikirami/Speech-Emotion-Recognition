{
 "cells": [
  {
   "cell_type": "code",
   "execution_count": 16,
   "metadata": {},
   "outputs": [],
   "source": [
    "import os\n",
    "import numpy as np\n",
    "from PIL import Image\n",
    "from sklearn.model_selection import train_test_split\n",
    "import tensorflow as tf\n",
    "from tensorflow.keras import layers, models, activations\n",
    "from tensorflow.python.keras.callbacks import ModelCheckpoint"
   ]
  },
  {
   "cell_type": "markdown",
   "metadata": {},
   "source": [
    "### Define variables"
   ]
  },
  {
   "cell_type": "code",
   "execution_count": 17,
   "metadata": {},
   "outputs": [],
   "source": [
    "SPECTROGRAM = False             # If True, model is trained on spectrograms. If False, model is trained on mel-spectrograms.\n",
    "classes = [\"Anger\", \"Disgust\", \"Fear\", \"Happy\", \"Neutral\", \"Sad\"]"
   ]
  },
  {
   "cell_type": "code",
   "execution_count": 18,
   "metadata": {},
   "outputs": [],
   "source": [
    "if SPECTROGRAM == True:\n",
    "    path_train = \"/Speech_emotion_recognition/New_Big_dataset_Spetember2022/Train_6_emotions/Spectrogram\"\n",
    "    path_test = \"/Speech_emotion_recognition/New_Big_dataset_Spetember2022/Test_6_emotions/Spectrogram\"\n",
    "    log_directory = \"/Speech_emotion_recognition/Testy_do_mgr/logs/TensorBoard/6_emotions_spec\"\n",
    "    filepath = '/Speech_emotion_recognition/Testy_do_mgr/logs/SavedModels/6_emotions_spec.h5'\n",
    "    log_directory_on_4_emotions = \"/Speech_emotion_recognition/Testy_do_mgr/logs/TensorBoard/4_emotions_on_model_trained_on_6_emotions_spec\"\n",
    "    filepath_on_4_emotions = '/Speech_emotion_recognition/Testy_do_mgr/logs/SavedModels/4_emotions_on_model_trained_on_6_emotions_spec.h5'\n",
    "\n",
    "else:\n",
    "    path_train = \"/Speech_emotion_recognition/New_Big_dataset_Spetember2022/Train_6_emotions/Melspectrogram\"\n",
    "    path_test = \"/Speech_emotion_recognition/New_Big_dataset_Spetember2022/Test_6_emotions/Melspectrogram\"\n",
    "    log_directory = \"/Speech_emotion_recognition/Testy_do_mgr/logs/TensorBoard/6_emotions_mel\"\n",
    "    filepath = '/Speech_emotion_recognition/Testy_do_mgr/logs/SavedModels/6_emotions_mel.h5'\n",
    "    log_directory_on_4_emotions = \"/Speech_emotion_recognition/Testy_do_mgr/logs/TensorBoard/4_emotions_on_model_trained_on_6_emotions_spec\"\n",
    "    filepath_on_4_emotions = '/Speech_emotion_recognition/Testy_do_mgr/logs/SavedModels/4_emotions_on_model_trained_on_6_emotions_spec.h5'\n",
    "\n"
   ]
  },
  {
   "cell_type": "markdown",
   "metadata": {},
   "source": [
    "### Methods"
   ]
  },
  {
   "cell_type": "code",
   "execution_count": 19,
   "metadata": {},
   "outputs": [],
   "source": [
    "def get_train_data(train_data_path):\n",
    "    \"\"\"\n",
    "    Loads train data from all datasets, for IEMOCAP data from all sessions except session 2\n",
    "\n",
    "    Returns:\n",
    "        data_train - training samples\n",
    "        data_val - validation samples\n",
    "        target_train - training targets\n",
    "        target_val - validation targets\n",
    "        \n",
    "    \"\"\"\n",
    "    classNumber = 0\n",
    "    targets = []\n",
    "    img = []\n",
    "\n",
    "    for current_folder in classes:\n",
    "        emotion_folder = train_data_path + '/' + current_folder\n",
    "        for fileName in os.listdir(emotion_folder):\n",
    "            targets.append(classNumber)\n",
    "            img.append(np.array(Image.open(emotion_folder + '/' + fileName).convert('RGB'))/255)\n",
    "        classNumber += 1\n",
    "\n",
    "    \n",
    "    targets_array = np.asarray(targets)\n",
    "    targets = []\n",
    "    img_array = np.asarray(img)\n",
    "    img = []\n",
    "\n",
    "    targets_array = tf.keras.utils.to_categorical(targets_array)\n",
    "    data_train, data_val, target_train, target_val = train_test_split(img_array, targets_array, test_size=0.25, random_state=0)\n",
    "\n",
    "    print(\"shapes\")\n",
    "    print(data_train.shape)\n",
    "    print(target_train.shape)\n",
    "    print(data_val.shape)\n",
    "    print(target_val.shape)\n",
    "\n",
    "    return data_train, data_val, target_train, target_val"
   ]
  },
  {
   "cell_type": "code",
   "execution_count": 20,
   "metadata": {},
   "outputs": [],
   "source": [
    "def get_train_data_4_emotions(train_data_path):\n",
    "    \"\"\"\n",
    "    Loads train data from all datasets, for IEMOCAP data from all sessions except session 2\n",
    "\n",
    "    Returns:\n",
    "        data_train - training samples\n",
    "        data_val - validation samples\n",
    "        target_train - training targets\n",
    "        target_val - validation targets\n",
    "        \n",
    "    \"\"\"\n",
    "    classNumber = 0\n",
    "    targets = []\n",
    "    img = []\n",
    "\n",
    "    for current_folder in classes:\n",
    "        if(current_folder != \"Disgust\" and current_folder != \"Fear\"):\n",
    "            emotion_folder = train_data_path + '/' + current_folder\n",
    "            for fileName in os.listdir(emotion_folder):\n",
    "                targets.append(classNumber)\n",
    "                img.append(np.array(Image.open(emotion_folder + '/' + fileName).convert('RGB'))/255)\n",
    "            classNumber += 1\n",
    "\n",
    "    \n",
    "    targets_array = np.asarray(targets)\n",
    "    targets = []\n",
    "    img_array = np.asarray(img)\n",
    "    img = []\n",
    "\n",
    "    targets_array = tf.keras.utils.to_categorical(targets_array)\n",
    "    data_train, data_val, target_train, target_val = train_test_split(img_array, targets_array, test_size=0.25, random_state=0)\n",
    "\n",
    "    print(\"shapes\")\n",
    "    print(data_train.shape)\n",
    "    print(target_train.shape)\n",
    "    print(data_val.shape)\n",
    "    print(target_val.shape)\n",
    "\n",
    "    return data_train, data_val, target_train, target_val"
   ]
  },
  {
   "cell_type": "code",
   "execution_count": 21,
   "metadata": {},
   "outputs": [],
   "source": [
    "def get_test_data_4_emotions(test_data_path):\n",
    "    \"\"\"\n",
    "    Loads test data from all datasets, for IEMOCAP data from all sessions except session 2\n",
    "\n",
    "    Returns:\n",
    "        data_test - test samples\n",
    "        target_test_to_categorical - test targets\n",
    "        \n",
    "    \"\"\"\n",
    "    classNumber = 0\n",
    "    targets = []\n",
    "    img = []\n",
    "\n",
    "    for current_folder in classes:\n",
    "        if(current_folder != \"Disgust\" and current_folder != \"Fear\"):\n",
    "            emotion_folder = test_data_path + '/' + current_folder\n",
    "            for fileName in os.listdir(emotion_folder):\n",
    "                targets.append(classNumber)\n",
    "                img.append(np.array(Image.open(emotion_folder + '/' + fileName).convert('RGB'))/255)\n",
    "            classNumber += 1\n",
    "\n",
    "    data_test = np.asarray(img)\n",
    "    img = []\n",
    "    target_test = np.asarray(targets)\n",
    "    targets = []\n",
    "    target_test_to_categorical = tf.keras.utils.to_categorical(target_test)\n",
    "\n",
    "    print(data_test.shape)\n",
    "    print(target_test_to_categorical.shape)\n",
    "\n",
    "    return data_test, target_test_to_categorical"
   ]
  },
  {
   "cell_type": "code",
   "execution_count": 22,
   "metadata": {},
   "outputs": [],
   "source": [
    "def get_test_data(test_data_path):\n",
    "    \"\"\"\n",
    "    Loads test data from all datasets, for IEMOCAP data from all sessions except session 2\n",
    "\n",
    "    Returns:\n",
    "        data_test - test samples\n",
    "        target_test_to_categorical - test targets\n",
    "        \n",
    "    \"\"\"\n",
    "    classNumber = 0\n",
    "    targets = []\n",
    "    img = []\n",
    "\n",
    "    for current_folder in classes:\n",
    "        emotion_folder = test_data_path + '/' + current_folder\n",
    "        for fileName in os.listdir(emotion_folder):\n",
    "            targets.append(classNumber)\n",
    "            img.append(np.array(Image.open(emotion_folder + '/' + fileName).convert('RGB'))/255)\n",
    "        classNumber += 1\n",
    "\n",
    "    data_test = np.asarray(img)\n",
    "    img = []\n",
    "    target_test = np.asarray(targets)\n",
    "    targets = []\n",
    "    target_test_to_categorical = tf.keras.utils.to_categorical(target_test)\n",
    "\n",
    "    print(data_test.shape)\n",
    "    print(target_test_to_categorical.shape)\n",
    "\n",
    "    return data_test, target_test_to_categorical"
   ]
  },
  {
   "cell_type": "code",
   "execution_count": 23,
   "metadata": {},
   "outputs": [],
   "source": [
    "# MODEL SHEDULER\n",
    "def scheduler(epoch, lr):\n",
    "    if epoch < 15:\n",
    "        eta = lr\n",
    "    else:\n",
    "        eta = lr - 0.00001\n",
    "    if lr < 0.00005:\n",
    "        eta = 0.00005\n",
    "\n",
    "    return eta"
   ]
  },
  {
   "cell_type": "markdown",
   "metadata": {},
   "source": [
    "### Get train data and define model"
   ]
  },
  {
   "cell_type": "code",
   "execution_count": 24,
   "metadata": {},
   "outputs": [
    {
     "name": "stdout",
     "output_type": "stream",
     "text": [
      "shapes\n",
      "(6360, 231, 349, 3)\n",
      "(6360, 6)\n",
      "(2121, 231, 349, 3)\n",
      "(2121, 6)\n"
     ]
    }
   ],
   "source": [
    "data_train, data_val, target_train, target_val = get_train_data(path_train)\n"
   ]
  },
  {
   "cell_type": "code",
   "execution_count": 25,
   "metadata": {},
   "outputs": [
    {
     "name": "stdout",
     "output_type": "stream",
     "text": [
      "Model: \"sequential_1\"\n",
      "_________________________________________________________________\n",
      " Layer (type)                Output Shape              Param #   \n",
      "=================================================================\n",
      " conv2d_3 (Conv2D)           (None, 231, 349, 75)      5700      \n",
      "                                                                 \n",
      " max_pooling2d_3 (MaxPooling  (None, 77, 116, 75)      0         \n",
      " 2D)                                                             \n",
      "                                                                 \n",
      " conv2d_4 (Conv2D)           (None, 77, 116, 135)      253260    \n",
      "                                                                 \n",
      " max_pooling2d_4 (MaxPooling  (None, 25, 38, 135)      0         \n",
      " 2D)                                                             \n",
      "                                                                 \n",
      " dropout_3 (Dropout)         (None, 25, 38, 135)       0         \n",
      "                                                                 \n",
      " conv2d_5 (Conv2D)           (None, 25, 38, 75)        253200    \n",
      "                                                                 \n",
      " max_pooling2d_5 (MaxPooling  (None, 8, 12, 75)        0         \n",
      " 2D)                                                             \n",
      "                                                                 \n",
      " dropout_4 (Dropout)         (None, 8, 12, 75)         0         \n",
      "                                                                 \n",
      " flatten_1 (Flatten)         (None, 7200)              0         \n",
      "                                                                 \n",
      " dense_2 (Dense)             (None, 45)                324045    \n",
      "                                                                 \n",
      " dropout_5 (Dropout)         (None, 45)                0         \n",
      "                                                                 \n",
      " dense_3 (Dense)             (None, 6)                 276       \n",
      "                                                                 \n",
      "=================================================================\n",
      "Total params: 836,481\n",
      "Trainable params: 836,481\n",
      "Non-trainable params: 0\n",
      "_________________________________________________________________\n",
      "None\n"
     ]
    }
   ],
   "source": [
    "\n",
    "# MODEL SHEDULER\n",
    "scheduler_callback = tf.keras.callbacks.LearningRateScheduler(scheduler)\n",
    "\n",
    "# TENSORBOARD\n",
    "tensorboard_callback = tf.keras.callbacks.TensorBoard(log_dir=log_directory)\n",
    "\n",
    "# SAVE MODEL \n",
    "checkpoint = ModelCheckpoint(filepath,monitor='val_loss',verbose=1,save_best_only=True,mode='min')\n",
    "\n",
    "\n",
    "model = models.Sequential()\n",
    "model.add(layers.Conv2D(75, (5, 5), activation='relu', input_shape=(231, 349, 3), padding='same'))\n",
    "model.add(layers.MaxPooling2D((3, 3)))\n",
    "model.add(layers.Conv2D(135, (5, 5), activation='relu', padding='same'))\n",
    "model.add(layers.MaxPooling2D((3, 3)))\n",
    "model.add(layers.Dropout(0.15))\n",
    "model.add(layers.Conv2D(75, (5, 5), activation='relu', padding='same'))\n",
    "model.add(layers.MaxPooling2D((3, 3)))\n",
    "model.add(layers.Dropout(0.25))\n",
    "model.add(layers.Flatten()) \n",
    "model.add(layers.Dense(45, activation='relu'))\n",
    "model.add(layers.Dropout(0.2))\n",
    "model.add(layers.Dense(6, activation='softmax'))\n",
    "\n",
    "\n",
    "print(model.summary())\n"
   ]
  },
  {
   "cell_type": "markdown",
   "metadata": {},
   "source": [
    "### Model compile and model fit to start training"
   ]
  },
  {
   "cell_type": "code",
   "execution_count": 26,
   "metadata": {},
   "outputs": [
    {
     "data": {
      "text/plain": [
       "(231, 349, 3)"
      ]
     },
     "execution_count": 26,
     "metadata": {},
     "output_type": "execute_result"
    }
   ],
   "source": [
    "data_train[0].shape"
   ]
  },
  {
   "cell_type": "code",
   "execution_count": 27,
   "metadata": {},
   "outputs": [],
   "source": [
    "# MODEL COMPILE \n",
    "model.compile(optimizer='adam',\n",
    "            loss='categorical_crossentropy',\n",
    "            metrics=['accuracy'])"
   ]
  },
  {
   "cell_type": "code",
   "execution_count": 28,
   "metadata": {},
   "outputs": [
    {
     "name": "stdout",
     "output_type": "stream",
     "text": [
      "Epoch 1/20\n",
      "199/199 [==============================] - ETA: 0s - loss: 1.6663 - accuracy: 0.2805\n",
      "Epoch 00001: val_loss improved from inf to 1.46519, saving model to /home/studenci/165122/Speech_emotion_recognition/Testy_do_mgr/logs/SavedModels/6_emotions_mel.h5\n",
      "199/199 [==============================] - 13s 61ms/step - loss: 1.6663 - accuracy: 0.2805 - val_loss: 1.4652 - val_accuracy: 0.4201\n",
      "Epoch 2/20\n",
      "198/199 [============================>.] - ETA: 0s - loss: 1.4082 - accuracy: 0.4108\n",
      "Epoch 00002: val_loss improved from 1.46519 to 1.31440, saving model to /home/studenci/165122/Speech_emotion_recognition/Testy_do_mgr/logs/SavedModels/6_emotions_mel.h5\n",
      "199/199 [==============================] - 11s 56ms/step - loss: 1.4077 - accuracy: 0.4108 - val_loss: 1.3144 - val_accuracy: 0.4781\n",
      "Epoch 3/20\n",
      "198/199 [============================>.] - ETA: 0s - loss: 1.3229 - accuracy: 0.4468\n",
      "Epoch 00003: val_loss improved from 1.31440 to 1.27732, saving model to /home/studenci/165122/Speech_emotion_recognition/Testy_do_mgr/logs/SavedModels/6_emotions_mel.h5\n",
      "199/199 [==============================] - 11s 57ms/step - loss: 1.3231 - accuracy: 0.4472 - val_loss: 1.2773 - val_accuracy: 0.4550\n",
      "Epoch 4/20\n",
      "198/199 [============================>.] - ETA: 0s - loss: 1.2631 - accuracy: 0.4755\n",
      "Epoch 00004: val_loss improved from 1.27732 to 1.20107, saving model to /home/studenci/165122/Speech_emotion_recognition/Testy_do_mgr/logs/SavedModels/6_emotions_mel.h5\n",
      "199/199 [==============================] - 11s 57ms/step - loss: 1.2632 - accuracy: 0.4755 - val_loss: 1.2011 - val_accuracy: 0.4955\n",
      "Epoch 5/20\n",
      "198/199 [============================>.] - ETA: 0s - loss: 1.2200 - accuracy: 0.4921\n",
      "Epoch 00005: val_loss improved from 1.20107 to 1.18093, saving model to /home/studenci/165122/Speech_emotion_recognition/Testy_do_mgr/logs/SavedModels/6_emotions_mel.h5\n",
      "199/199 [==============================] - 11s 57ms/step - loss: 1.2210 - accuracy: 0.4912 - val_loss: 1.1809 - val_accuracy: 0.5285\n",
      "Epoch 6/20\n",
      "198/199 [============================>.] - ETA: 0s - loss: 1.1857 - accuracy: 0.5155\n",
      "Epoch 00006: val_loss improved from 1.18093 to 1.17897, saving model to /home/studenci/165122/Speech_emotion_recognition/Testy_do_mgr/logs/SavedModels/6_emotions_mel.h5\n",
      "199/199 [==============================] - 11s 57ms/step - loss: 1.1858 - accuracy: 0.5156 - val_loss: 1.1790 - val_accuracy: 0.5262\n",
      "Epoch 7/20\n",
      "198/199 [============================>.] - ETA: 0s - loss: 1.1512 - accuracy: 0.5312\n",
      "Epoch 00007: val_loss improved from 1.17897 to 1.14032, saving model to /home/studenci/165122/Speech_emotion_recognition/Testy_do_mgr/logs/SavedModels/6_emotions_mel.h5\n",
      "199/199 [==============================] - 12s 58ms/step - loss: 1.1522 - accuracy: 0.5311 - val_loss: 1.1403 - val_accuracy: 0.5427\n",
      "Epoch 8/20\n",
      "198/199 [============================>.] - ETA: 0s - loss: 1.1381 - accuracy: 0.5388\n",
      "Epoch 00008: val_loss improved from 1.14032 to 1.12922, saving model to /home/studenci/165122/Speech_emotion_recognition/Testy_do_mgr/logs/SavedModels/6_emotions_mel.h5\n",
      "199/199 [==============================] - 12s 58ms/step - loss: 1.1384 - accuracy: 0.5387 - val_loss: 1.1292 - val_accuracy: 0.5545\n",
      "Epoch 9/20\n",
      "198/199 [============================>.] - ETA: 0s - loss: 1.1191 - accuracy: 0.5492\n",
      "Epoch 00009: val_loss improved from 1.12922 to 1.12161, saving model to /home/studenci/165122/Speech_emotion_recognition/Testy_do_mgr/logs/SavedModels/6_emotions_mel.h5\n",
      "199/199 [==============================] - 11s 57ms/step - loss: 1.1184 - accuracy: 0.5495 - val_loss: 1.1216 - val_accuracy: 0.5554\n",
      "Epoch 10/20\n",
      "198/199 [============================>.] - ETA: 0s - loss: 1.0979 - accuracy: 0.5601\n",
      "Epoch 00010: val_loss improved from 1.12161 to 1.11398, saving model to /home/studenci/165122/Speech_emotion_recognition/Testy_do_mgr/logs/SavedModels/6_emotions_mel.h5\n",
      "199/199 [==============================] - 12s 58ms/step - loss: 1.0987 - accuracy: 0.5596 - val_loss: 1.1140 - val_accuracy: 0.5644\n",
      "Epoch 11/20\n",
      "199/199 [==============================] - ETA: 0s - loss: 1.0845 - accuracy: 0.5643\n",
      "Epoch 00011: val_loss did not improve from 1.11398\n",
      "199/199 [==============================] - 11s 58ms/step - loss: 1.0845 - accuracy: 0.5643 - val_loss: 1.1192 - val_accuracy: 0.5662\n",
      "Epoch 12/20\n",
      "198/199 [============================>.] - ETA: 0s - loss: 1.0564 - accuracy: 0.5707\n",
      "Epoch 00012: val_loss improved from 1.11398 to 1.06730, saving model to /home/studenci/165122/Speech_emotion_recognition/Testy_do_mgr/logs/SavedModels/6_emotions_mel.h5\n",
      "199/199 [==============================] - 11s 58ms/step - loss: 1.0552 - accuracy: 0.5714 - val_loss: 1.0673 - val_accuracy: 0.5926\n",
      "Epoch 13/20\n",
      "198/199 [============================>.] - ETA: 0s - loss: 1.0450 - accuracy: 0.5709\n",
      "Epoch 00013: val_loss improved from 1.06730 to 1.06701, saving model to /home/studenci/165122/Speech_emotion_recognition/Testy_do_mgr/logs/SavedModels/6_emotions_mel.h5\n",
      "199/199 [==============================] - 12s 58ms/step - loss: 1.0449 - accuracy: 0.5711 - val_loss: 1.0670 - val_accuracy: 0.5941\n",
      "Epoch 14/20\n",
      "198/199 [============================>.] - ETA: 0s - loss: 1.0265 - accuracy: 0.5909\n",
      "Epoch 00014: val_loss improved from 1.06701 to 1.06611, saving model to /home/studenci/165122/Speech_emotion_recognition/Testy_do_mgr/logs/SavedModels/6_emotions_mel.h5\n",
      "199/199 [==============================] - 12s 58ms/step - loss: 1.0261 - accuracy: 0.5907 - val_loss: 1.0661 - val_accuracy: 0.5875\n",
      "Epoch 15/20\n",
      "198/199 [============================>.] - ETA: 0s - loss: 1.0246 - accuracy: 0.5851\n",
      "Epoch 00015: val_loss improved from 1.06611 to 1.06377, saving model to /home/studenci/165122/Speech_emotion_recognition/Testy_do_mgr/logs/SavedModels/6_emotions_mel.h5\n",
      "199/199 [==============================] - 12s 58ms/step - loss: 1.0247 - accuracy: 0.5847 - val_loss: 1.0638 - val_accuracy: 0.5860\n",
      "Epoch 16/20\n",
      "199/199 [==============================] - ETA: 0s - loss: 0.9871 - accuracy: 0.6104\n",
      "Epoch 00016: val_loss did not improve from 1.06377\n",
      "199/199 [==============================] - 11s 57ms/step - loss: 0.9871 - accuracy: 0.6104 - val_loss: 1.0810 - val_accuracy: 0.5804\n",
      "Epoch 17/20\n",
      "199/199 [==============================] - ETA: 0s - loss: 0.9659 - accuracy: 0.6184\n",
      "Epoch 00017: val_loss improved from 1.06377 to 1.02905, saving model to /home/studenci/165122/Speech_emotion_recognition/Testy_do_mgr/logs/SavedModels/6_emotions_mel.h5\n",
      "199/199 [==============================] - 11s 57ms/step - loss: 0.9659 - accuracy: 0.6184 - val_loss: 1.0291 - val_accuracy: 0.6148\n",
      "Epoch 18/20\n",
      "198/199 [============================>.] - ETA: 0s - loss: 0.9582 - accuracy: 0.6199\n",
      "Epoch 00018: val_loss did not improve from 1.02905\n",
      "199/199 [==============================] - 12s 59ms/step - loss: 0.9575 - accuracy: 0.6198 - val_loss: 1.0550 - val_accuracy: 0.5917\n",
      "Epoch 19/20\n",
      "199/199 [==============================] - ETA: 0s - loss: 0.9395 - accuracy: 0.6200\n",
      "Epoch 00019: val_loss did not improve from 1.02905\n",
      "199/199 [==============================] - 12s 58ms/step - loss: 0.9395 - accuracy: 0.6200 - val_loss: 1.0345 - val_accuracy: 0.6030\n",
      "Epoch 20/20\n",
      "198/199 [============================>.] - ETA: 0s - loss: 0.9235 - accuracy: 0.6370\n",
      "Epoch 00020: val_loss improved from 1.02905 to 1.02260, saving model to /home/studenci/165122/Speech_emotion_recognition/Testy_do_mgr/logs/SavedModels/6_emotions_mel.h5\n",
      "199/199 [==============================] - 12s 58ms/step - loss: 0.9245 - accuracy: 0.6368 - val_loss: 1.0226 - val_accuracy: 0.6101\n"
     ]
    }
   ],
   "source": [
    "# MODEL FIT \n",
    "history = model.fit(data_train, target_train,\n",
    "            batch_size = 32,\n",
    "            epochs=20,\n",
    "            shuffle=True,\n",
    "            validation_data=(data_val, target_val),\n",
    "            callbacks=[tensorboard_callback, checkpoint])"
   ]
  },
  {
   "cell_type": "markdown",
   "metadata": {},
   "source": [
    "### Get test data, load weights of the best model and evaluate"
   ]
  },
  {
   "cell_type": "code",
   "execution_count": 29,
   "metadata": {},
   "outputs": [
    {
     "name": "stdout",
     "output_type": "stream",
     "text": [
      "(2835, 231, 349, 3)\n",
      "(2835, 6)\n"
     ]
    }
   ],
   "source": [
    "\n",
    "\n",
    "data_test, target_test_to_categorical = get_test_data(path_test)"
   ]
  },
  {
   "cell_type": "code",
   "execution_count": 30,
   "metadata": {},
   "outputs": [
    {
     "name": "stdout",
     "output_type": "stream",
     "text": [
      "2835/2835 [==============================] - 11s 4ms/step - loss: 1.2450 - accuracy: 0.5743\n",
      "test loss, test acc: [1.2449952363967896, 0.5742504596710205]\n"
     ]
    }
   ],
   "source": [
    "model.load_weights(filepath=filepath)\n",
    "    \n",
    "results = model.evaluate(data_test, target_test_to_categorical, batch_size=1)\n",
    "print(\"test loss, test acc:\", results)"
   ]
  }
 ],
 "metadata": {
  "kernelspec": {
   "display_name": "Python 3.10.5 64-bit (system)",
   "language": "python",
   "name": "python3"
  },
  "language_info": {
   "codemirror_mode": {
    "name": "ipython",
    "version": 3
   },
   "file_extension": ".py",
   "mimetype": "text/x-python",
   "name": "python",
   "nbconvert_exporter": "python",
   "pygments_lexer": "ipython3",
   "version": "3.10.5"
  },
  "orig_nbformat": 4,
  "vscode": {
   "interpreter": {
    "hash": "18f5bd19e6ca2f9b4688cbd041a40a785e76d3bff74ae448065bdd2b714a1971"
   }
  }
 },
 "nbformat": 4,
 "nbformat_minor": 2
}
