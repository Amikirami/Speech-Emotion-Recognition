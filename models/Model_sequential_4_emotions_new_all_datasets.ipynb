{
 "cells": [
  {
   "cell_type": "code",
   "execution_count": 1,
   "metadata": {},
   "outputs": [
    {
     "name": "stderr",
     "output_type": "stream",
     "text": [
      "/home/studenci/.local/lib/python3.8/site-packages/tqdm/auto.py:22: TqdmWarning: IProgress not found. Please update jupyter and ipywidgets. See https://ipywidgets.readthedocs.io/en/stable/user_install.html\n",
      "  from .autonotebook import tqdm as notebook_tqdm\n"
     ]
    }
   ],
   "source": [
    "import os\n",
    "import numpy as np\n",
    "from PIL import Image\n",
    "from sklearn.model_selection import train_test_split\n",
    "import tensorflow as tf\n",
    "from tensorflow.keras import layers, models, activations\n",
    "from tensorflow.python.keras.callbacks import ModelCheckpoint\n",
    "import torch"
   ]
  },
  {
   "cell_type": "markdown",
   "metadata": {},
   "source": [
    "### Choose GPU"
   ]
  },
  {
   "cell_type": "code",
   "execution_count": 2,
   "metadata": {},
   "outputs": [
    {
     "name": "stdout",
     "output_type": "stream",
     "text": [
      "Name: /physical_device:GPU:0   Type: GPU\n",
      "Name: /physical_device:GPU:1   Type: GPU\n"
     ]
    }
   ],
   "source": [
    "import tensorflow as tf\n",
    "\n",
    "gpus = tf.config.list_physical_devices('GPU')\n",
    "for gpu in gpus:\n",
    "    print(\"Name:\", gpu.name, \"  Type:\", gpu.device_type)"
   ]
  },
  {
   "cell_type": "code",
   "execution_count": 3,
   "metadata": {},
   "outputs": [],
   "source": [
    "# Choose GPU\n",
    "os.environ[\"CUDA_VISIBLE_DEVICES\"] = '1'"
   ]
  },
  {
   "cell_type": "markdown",
   "metadata": {},
   "source": [
    "### Define variables"
   ]
  },
  {
   "cell_type": "code",
   "execution_count": 4,
   "metadata": {},
   "outputs": [],
   "source": [
    "SPECTROGRAM = False             # If True, model is trained on spectrograms. If False, model is trained on mel-spectrograms.\n",
    "classes = [\"Anger\", \"Happy\", \"Neutral\", \"Sad\"]"
   ]
  },
  {
   "cell_type": "code",
   "execution_count": 5,
   "metadata": {},
   "outputs": [],
   "source": [
    "if SPECTROGRAM == True:\n",
    "    path_train = \"/Speech_emotion_recognition/New_Big_dataset_Spetember2022/Train_4_emotions/Spectrogram\"\n",
    "    path_test = \"/Speech_emotion_recognition/New_Big_dataset_Spetember2022/Test_4_emotions/Spectrogram\"\n",
    "    log_directory = \"/Speech_emotion_recognition/Testy_do_mgr/logs/TensorBoard/4_emotions_spec\"\n",
    "    filepath= '/Speech_emotion_recognition/Testy_do_mgr/logs/SavedModels/4_emotions_spec.h5'\n",
    "\n",
    "else:\n",
    "    path_train = \"/Speech_emotion_recognition/New_Big_dataset_Spetember2022/Train_4_emotions/Melspectrogram\"\n",
    "    path_test = \"/Speech_emotion_recognition/New_Big_dataset_Spetember2022/Test_4_emotions/Melspectrogram\"\n",
    "    log_directory = \"/Speech_emotion_recognition/Testy_do_mgr/logs/TensorBoard/4_emotions_mel\"\n",
    "    filepath= '/Speech_emotion_recognition/Testy_do_mgr/logs/SavedModels/4_emotions_mel.h5'\n"
   ]
  },
  {
   "cell_type": "markdown",
   "metadata": {},
   "source": [
    "### Methods"
   ]
  },
  {
   "cell_type": "code",
   "execution_count": 6,
   "metadata": {},
   "outputs": [],
   "source": [
    "def get_train_data(train_data_path):\n",
    "    \"\"\"\n",
    "    Loads train data from all datasets, for IEMOCAP data from all sessions except session 2\n",
    "\n",
    "    Returns:\n",
    "        data_train - training samples\n",
    "        data_val - validation samples\n",
    "        target_train - training targets\n",
    "        target_val - validation targets\n",
    "        \n",
    "    \"\"\"\n",
    "    classNumber = 0\n",
    "    targets = []\n",
    "    img = []\n",
    "\n",
    "    for current_folder in classes:\n",
    "        emotion_folder = train_data_path + '/' + current_folder\n",
    "        for fileName in os.listdir(emotion_folder):\n",
    "            targets.append(classNumber)\n",
    "            img.append(np.array(Image.open(emotion_folder + '/' + fileName).convert('RGB'))/255)\n",
    "        classNumber += 1\n",
    "\n",
    "    \n",
    "    targets_array = np.asarray(targets)\n",
    "    targets = []\n",
    "    img_array = np.asarray(img)\n",
    "    img = []\n",
    "\n",
    "    targets_array = tf.keras.utils.to_categorical(targets_array)\n",
    "    data_train, data_val, target_train, target_val = train_test_split(img_array, targets_array, test_size=0.25, random_state=0)\n",
    "\n",
    "    print(\"shapes\")\n",
    "    print(data_train.shape)\n",
    "    print(target_train.shape)\n",
    "    print(data_val.shape)\n",
    "    print(target_val.shape)\n",
    "\n",
    "    return data_train, data_val, target_train, target_val"
   ]
  },
  {
   "cell_type": "code",
   "execution_count": 7,
   "metadata": {},
   "outputs": [],
   "source": [
    "def get_test_data(test_data_path):\n",
    "    \"\"\"\n",
    "    Loads test data from all datasets, for IEMOCAP data from all sessions except session 2\n",
    "\n",
    "    Returns:\n",
    "        data_test - test samples\n",
    "        target_test_to_categorical - test targets\n",
    "        \n",
    "    \"\"\"\n",
    "    classNumber = 0\n",
    "    targets = []\n",
    "    img = []\n",
    "\n",
    "    for current_folder in classes:\n",
    "        emotion_folder = test_data_path + '/' + current_folder\n",
    "        for fileName in os.listdir(emotion_folder):\n",
    "            targets.append(classNumber)\n",
    "            img.append(np.array(Image.open(emotion_folder + '/' + fileName).convert('RGB'))/255)\n",
    "        classNumber += 1\n",
    "\n",
    "    data_test = np.asarray(img)\n",
    "    img = []\n",
    "    target_test = np.asarray(targets)\n",
    "    targets = []\n",
    "    target_test_to_categorical = tf.keras.utils.to_categorical(target_test)\n",
    "\n",
    "    print(data_test.shape)\n",
    "    print(target_test_to_categorical.shape)\n",
    "\n",
    "    return data_test, target_test_to_categorical"
   ]
  },
  {
   "cell_type": "code",
   "execution_count": 8,
   "metadata": {},
   "outputs": [],
   "source": [
    "# MODEL SHEDULER\n",
    "def scheduler(epoch, lr):\n",
    "    if epoch < 15:\n",
    "        eta = lr\n",
    "    else:\n",
    "        eta = lr - 0.00001\n",
    "    if lr < 0.00005:\n",
    "        eta = 0.00005\n",
    "\n",
    "    return eta"
   ]
  },
  {
   "cell_type": "markdown",
   "metadata": {},
   "source": [
    "### Get train data and define model"
   ]
  },
  {
   "cell_type": "code",
   "execution_count": 9,
   "metadata": {},
   "outputs": [
    {
     "name": "stdout",
     "output_type": "stream",
     "text": [
      "shapes\n",
      "(7569, 231, 349, 3)\n",
      "(7569, 4)\n",
      "(2524, 231, 349, 3)\n",
      "(2524, 4)\n",
      "Model: \"sequential\"\n",
      "_________________________________________________________________\n",
      " Layer (type)                Output Shape              Param #   \n",
      "=================================================================\n",
      " conv2d (Conv2D)             (None, 231, 349, 75)      5700      \n",
      "                                                                 \n",
      " max_pooling2d (MaxPooling2D  (None, 77, 116, 75)      0         \n",
      " )                                                               \n",
      "                                                                 \n",
      " conv2d_1 (Conv2D)           (None, 77, 116, 135)      253260    \n",
      "                                                                 \n",
      " max_pooling2d_1 (MaxPooling  (None, 25, 38, 135)      0         \n",
      " 2D)                                                             \n",
      "                                                                 \n",
      " dropout (Dropout)           (None, 25, 38, 135)       0         \n",
      "                                                                 \n",
      " conv2d_2 (Conv2D)           (None, 25, 38, 75)        253200    \n",
      "                                                                 \n",
      " max_pooling2d_2 (MaxPooling  (None, 8, 12, 75)        0         \n",
      " 2D)                                                             \n",
      "                                                                 \n",
      " dropout_1 (Dropout)         (None, 8, 12, 75)         0         \n",
      "                                                                 \n",
      " flatten (Flatten)           (None, 7200)              0         \n",
      "                                                                 \n",
      " dense (Dense)               (None, 45)                324045    \n",
      "                                                                 \n",
      " dropout_2 (Dropout)         (None, 45)                0         \n",
      "                                                                 \n",
      " dense_1 (Dense)             (None, 4)                 184       \n",
      "                                                                 \n",
      "=================================================================\n",
      "Total params: 836,389\n",
      "Trainable params: 836,389\n",
      "Non-trainable params: 0\n",
      "_________________________________________________________________\n"
     ]
    },
    {
     "name": "stderr",
     "output_type": "stream",
     "text": [
      "2022-09-30 08:13:07.671682: I tensorflow/core/platform/cpu_feature_guard.cc:151] This TensorFlow binary is optimized with oneAPI Deep Neural Network Library (oneDNN) to use the following CPU instructions in performance-critical operations:  AVX2 FMA\n",
      "To enable them in other operations, rebuild TensorFlow with the appropriate compiler flags.\n",
      "2022-09-30 08:13:08.630822: I tensorflow/core/common_runtime/gpu/gpu_device.cc:1525] Created device /job:localhost/replica:0/task:0/device:GPU:0 with 22839 MB memory:  -> device: 0, name: TITAN RTX, pci bus id: 0000:09:00.0, compute capability: 7.5\n",
      "2022-09-30 08:13:08.635186: I tensorflow/core/common_runtime/gpu/gpu_device.cc:1525] Created device /job:localhost/replica:0/task:0/device:GPU:1 with 22767 MB memory:  -> device: 1, name: TITAN RTX, pci bus id: 0000:41:00.0, compute capability: 7.5\n"
     ]
    }
   ],
   "source": [
    "data_train, data_val, target_train, target_val = get_train_data(path_train)\n",
    "\n",
    "# MODEL SHEDULER\n",
    "scheduler_callback = tf.keras.callbacks.LearningRateScheduler(scheduler)\n",
    "\n",
    "# TENSORBOARD\n",
    "tensorboard_callback = tf.keras.callbacks.TensorBoard(log_dir=log_directory)\n",
    "\n",
    "# SAVE MODEL \n",
    "checkpoint = ModelCheckpoint(filepath,monitor='val_loss',verbose=1,save_best_only=True,mode='min')\n",
    "\n",
    "\n",
    "model = models.Sequential()\n",
    "model.add(layers.Conv2D(75, (5, 5), activation='relu', input_shape=(231, 349, 3), padding='same'))\n",
    "model.add(layers.MaxPooling2D((3, 3)))\n",
    "model.add(layers.Conv2D(135, (5, 5), activation='relu', padding='same'))\n",
    "model.add(layers.MaxPooling2D((3, 3)))\n",
    "model.add(layers.Dropout(0.15))\n",
    "model.add(layers.Conv2D(75, (5, 5), activation='relu', padding='same'))\n",
    "model.add(layers.MaxPooling2D((3, 3)))\n",
    "model.add(layers.Dropout(0.25))\n",
    "model.add(layers.Flatten()) \n",
    "model.add(layers.Dense(45, activation='relu'))\n",
    "model.add(layers.Dropout(0.2))\n",
    "# model.add(layers.Dense(40, activation='relu'))\n",
    "# model.add(layers.Dropout(0.3))\n",
    "model.add(layers.Dense(4, activation='softmax'))\n",
    "\n",
    "\n",
    "model.summary()\n"
   ]
  },
  {
   "cell_type": "markdown",
   "metadata": {},
   "source": [
    "### Model compile and model fit to start training"
   ]
  },
  {
   "cell_type": "code",
   "execution_count": 10,
   "metadata": {},
   "outputs": [],
   "source": [
    "# MODEL COMPILE \n",
    "model.compile(optimizer='adam',\n",
    "            loss='categorical_crossentropy',\n",
    "            metrics=['accuracy'])"
   ]
  },
  {
   "cell_type": "code",
   "execution_count": 11,
   "metadata": {},
   "outputs": [
    {
     "name": "stdout",
     "output_type": "stream",
     "text": [
      "Epoch 1/20\n"
     ]
    },
    {
     "name": "stderr",
     "output_type": "stream",
     "text": [
      "2022-09-30 08:13:16.664317: I tensorflow/stream_executor/cuda/cuda_dnn.cc:366] Loaded cuDNN version 8101\n"
     ]
    },
    {
     "name": "stdout",
     "output_type": "stream",
     "text": [
      "237/237 [==============================] - ETA: 0s - loss: 1.1788 - accuracy: 0.4372\n",
      "Epoch 00001: val_loss improved from inf to 0.99133, saving model to /home/studenci/165122/Speech_emotion_recognition/Testy_do_mgr/logs/SavedModels/4_emotions_mel.h5\n",
      "237/237 [==============================] - 20s 69ms/step - loss: 1.1788 - accuracy: 0.4372 - val_loss: 0.9913 - val_accuracy: 0.5309\n",
      "Epoch 2/20\n",
      "237/237 [==============================] - ETA: 0s - loss: 1.0126 - accuracy: 0.5380\n",
      "Epoch 00002: val_loss improved from 0.99133 to 0.92415, saving model to /home/studenci/165122/Speech_emotion_recognition/Testy_do_mgr/logs/SavedModels/4_emotions_mel.h5\n",
      "237/237 [==============================] - 14s 58ms/step - loss: 1.0126 - accuracy: 0.5380 - val_loss: 0.9241 - val_accuracy: 0.5824\n",
      "Epoch 3/20\n",
      "237/237 [==============================] - ETA: 0s - loss: 0.9595 - accuracy: 0.5618\n",
      "Epoch 00003: val_loss improved from 0.92415 to 0.90953, saving model to /home/studenci/165122/Speech_emotion_recognition/Testy_do_mgr/logs/SavedModels/4_emotions_mel.h5\n",
      "237/237 [==============================] - 14s 57ms/step - loss: 0.9595 - accuracy: 0.5618 - val_loss: 0.9095 - val_accuracy: 0.5951\n",
      "Epoch 4/20\n",
      "236/237 [============================>.] - ETA: 0s - loss: 0.9161 - accuracy: 0.5963\n",
      "Epoch 00004: val_loss improved from 0.90953 to 0.90244, saving model to /home/studenci/165122/Speech_emotion_recognition/Testy_do_mgr/logs/SavedModels/4_emotions_mel.h5\n",
      "237/237 [==============================] - 14s 59ms/step - loss: 0.9153 - accuracy: 0.5968 - val_loss: 0.9024 - val_accuracy: 0.5895\n",
      "Epoch 5/20\n",
      "236/237 [============================>.] - ETA: 0s - loss: 0.8869 - accuracy: 0.6021\n",
      "Epoch 00005: val_loss improved from 0.90244 to 0.88030, saving model to /home/studenci/165122/Speech_emotion_recognition/Testy_do_mgr/logs/SavedModels/4_emotions_mel.h5\n",
      "237/237 [==============================] - 14s 57ms/step - loss: 0.8866 - accuracy: 0.6026 - val_loss: 0.8803 - val_accuracy: 0.6157\n",
      "Epoch 6/20\n",
      "237/237 [==============================] - ETA: 0s - loss: 0.8722 - accuracy: 0.6155\n",
      "Epoch 00006: val_loss improved from 0.88030 to 0.85212, saving model to /home/studenci/165122/Speech_emotion_recognition/Testy_do_mgr/logs/SavedModels/4_emotions_mel.h5\n",
      "237/237 [==============================] - 14s 58ms/step - loss: 0.8722 - accuracy: 0.6155 - val_loss: 0.8521 - val_accuracy: 0.6284\n",
      "Epoch 7/20\n",
      "237/237 [==============================] - ETA: 0s - loss: 0.8565 - accuracy: 0.6188\n",
      "Epoch 00007: val_loss improved from 0.85212 to 0.84919, saving model to /home/studenci/165122/Speech_emotion_recognition/Testy_do_mgr/logs/SavedModels/4_emotions_mel.h5\n",
      "237/237 [==============================] - 13s 57ms/step - loss: 0.8565 - accuracy: 0.6188 - val_loss: 0.8492 - val_accuracy: 0.6343\n",
      "Epoch 8/20\n",
      "236/237 [============================>.] - ETA: 0s - loss: 0.8285 - accuracy: 0.6365\n",
      "Epoch 00008: val_loss improved from 0.84919 to 0.83816, saving model to /home/studenci/165122/Speech_emotion_recognition/Testy_do_mgr/logs/SavedModels/4_emotions_mel.h5\n",
      "237/237 [==============================] - 14s 58ms/step - loss: 0.8282 - accuracy: 0.6368 - val_loss: 0.8382 - val_accuracy: 0.6323\n",
      "Epoch 9/20\n",
      "236/237 [============================>.] - ETA: 0s - loss: 0.8098 - accuracy: 0.6512\n",
      "Epoch 00009: val_loss improved from 0.83816 to 0.83512, saving model to /home/studenci/165122/Speech_emotion_recognition/Testy_do_mgr/logs/SavedModels/4_emotions_mel.h5\n",
      "237/237 [==============================] - 14s 57ms/step - loss: 0.8098 - accuracy: 0.6512 - val_loss: 0.8351 - val_accuracy: 0.6343\n",
      "Epoch 10/20\n",
      "236/237 [============================>.] - ETA: 0s - loss: 0.7885 - accuracy: 0.6588\n",
      "Epoch 00010: val_loss did not improve from 0.83512\n",
      "237/237 [==============================] - 14s 57ms/step - loss: 0.7883 - accuracy: 0.6586 - val_loss: 0.8414 - val_accuracy: 0.6426\n",
      "Epoch 11/20\n",
      "236/237 [============================>.] - ETA: 0s - loss: 0.7637 - accuracy: 0.6712\n",
      "Epoch 00011: val_loss improved from 0.83512 to 0.82946, saving model to /home/studenci/165122/Speech_emotion_recognition/Testy_do_mgr/logs/SavedModels/4_emotions_mel.h5\n",
      "237/237 [==============================] - 14s 59ms/step - loss: 0.7635 - accuracy: 0.6713 - val_loss: 0.8295 - val_accuracy: 0.6410\n",
      "Epoch 12/20\n",
      "236/237 [============================>.] - ETA: 0s - loss: 0.7299 - accuracy: 0.6829\n",
      "Epoch 00012: val_loss did not improve from 0.82946\n",
      "237/237 [==============================] - 14s 58ms/step - loss: 0.7311 - accuracy: 0.6823 - val_loss: 0.8328 - val_accuracy: 0.6525\n",
      "Epoch 13/20\n",
      "236/237 [============================>.] - ETA: 0s - loss: 0.7200 - accuracy: 0.6872\n",
      "Epoch 00013: val_loss improved from 0.82946 to 0.82404, saving model to /home/studenci/165122/Speech_emotion_recognition/Testy_do_mgr/logs/SavedModels/4_emotions_mel.h5\n",
      "237/237 [==============================] - 14s 58ms/step - loss: 0.7208 - accuracy: 0.6869 - val_loss: 0.8240 - val_accuracy: 0.6616\n",
      "Epoch 14/20\n",
      "236/237 [============================>.] - ETA: 0s - loss: 0.6937 - accuracy: 0.6992\n",
      "Epoch 00014: val_loss improved from 0.82404 to 0.81617, saving model to /home/studenci/165122/Speech_emotion_recognition/Testy_do_mgr/logs/SavedModels/4_emotions_mel.h5\n",
      "237/237 [==============================] - 14s 59ms/step - loss: 0.6934 - accuracy: 0.6992 - val_loss: 0.8162 - val_accuracy: 0.6466\n",
      "Epoch 15/20\n",
      "236/237 [============================>.] - ETA: 0s - loss: 0.6750 - accuracy: 0.7026\n",
      "Epoch 00015: val_loss did not improve from 0.81617\n",
      "237/237 [==============================] - 14s 57ms/step - loss: 0.6747 - accuracy: 0.7029 - val_loss: 0.8372 - val_accuracy: 0.6470\n",
      "Epoch 16/20\n",
      "236/237 [============================>.] - ETA: 0s - loss: 0.6623 - accuracy: 0.7093\n",
      "Epoch 00016: val_loss did not improve from 0.81617\n",
      "237/237 [==============================] - 14s 58ms/step - loss: 0.6629 - accuracy: 0.7091 - val_loss: 0.8221 - val_accuracy: 0.6672\n",
      "Epoch 17/20\n",
      "236/237 [============================>.] - ETA: 0s - loss: 0.6382 - accuracy: 0.7209\n",
      "Epoch 00017: val_loss did not improve from 0.81617\n",
      "237/237 [==============================] - 14s 59ms/step - loss: 0.6380 - accuracy: 0.7211 - val_loss: 0.8565 - val_accuracy: 0.6545\n",
      "Epoch 18/20\n",
      "236/237 [============================>.] - ETA: 0s - loss: 0.6174 - accuracy: 0.7325\n",
      "Epoch 00018: val_loss did not improve from 0.81617\n",
      "237/237 [==============================] - 14s 57ms/step - loss: 0.6172 - accuracy: 0.7327 - val_loss: 0.8227 - val_accuracy: 0.6688\n",
      "Epoch 19/20\n",
      "236/237 [============================>.] - ETA: 0s - loss: 0.5899 - accuracy: 0.7421\n",
      "Epoch 00019: val_loss did not improve from 0.81617\n",
      "237/237 [==============================] - 14s 58ms/step - loss: 0.5898 - accuracy: 0.7418 - val_loss: 0.8461 - val_accuracy: 0.6648\n",
      "Epoch 20/20\n",
      "237/237 [==============================] - ETA: 0s - loss: 0.5848 - accuracy: 0.7442\n",
      "Epoch 00020: val_loss did not improve from 0.81617\n",
      "237/237 [==============================] - 14s 58ms/step - loss: 0.5848 - accuracy: 0.7442 - val_loss: 0.8951 - val_accuracy: 0.6644\n"
     ]
    }
   ],
   "source": [
    "# MODEL FIT \n",
    "history = model.fit(data_train, target_train,\n",
    "            epochs=20,\n",
    "            shuffle=True,\n",
    "            validation_data=(data_val, target_val),\n",
    "            callbacks=[tensorboard_callback, checkpoint])"
   ]
  },
  {
   "cell_type": "markdown",
   "metadata": {},
   "source": [
    "### Get test data, load weights of the best model and evaluate"
   ]
  },
  {
   "cell_type": "code",
   "execution_count": 12,
   "metadata": {},
   "outputs": [
    {
     "name": "stdout",
     "output_type": "stream",
     "text": [
      "(2909, 231, 349, 3)\n",
      "(2909, 4)\n"
     ]
    }
   ],
   "source": [
    "data_train = []\n",
    "data_val = []\n",
    "target_train = []\n",
    "target_val = []\n",
    "\n",
    "targets = []\n",
    "img = []\n",
    "\n",
    "data_test, target_test_to_categorical = get_test_data(path_test)"
   ]
  },
  {
   "cell_type": "code",
   "execution_count": 13,
   "metadata": {},
   "outputs": [
    {
     "name": "stdout",
     "output_type": "stream",
     "text": [
      "2909/2909 [==============================] - 12s 4ms/step - loss: 1.1148 - accuracy: 0.5889\n",
      "test loss, test acc: [1.1148383617401123, 0.5888621807098389]\n"
     ]
    }
   ],
   "source": [
    "model.load_weights(filepath=filepath)\n",
    "    \n",
    "results = model.evaluate(data_test, target_test_to_categorical, batch_size=1)\n",
    "print(\"test loss, test acc:\", results)"
   ]
  }
 ],
 "metadata": {
  "kernelspec": {
   "display_name": "Python 3.8.8 64-bit",
   "language": "python",
   "name": "python3"
  },
  "language_info": {
   "codemirror_mode": {
    "name": "ipython",
    "version": 3
   },
   "file_extension": ".py",
   "mimetype": "text/x-python",
   "name": "python",
   "nbconvert_exporter": "python",
   "pygments_lexer": "ipython3",
   "version": "3.8.8"
  },
  "orig_nbformat": 4,
  "vscode": {
   "interpreter": {
    "hash": "767d51c1340bd893661ea55ea3124f6de3c7a262a8b4abca0554b478b1e2ff90"
   }
  }
 },
 "nbformat": 4,
 "nbformat_minor": 2
}
